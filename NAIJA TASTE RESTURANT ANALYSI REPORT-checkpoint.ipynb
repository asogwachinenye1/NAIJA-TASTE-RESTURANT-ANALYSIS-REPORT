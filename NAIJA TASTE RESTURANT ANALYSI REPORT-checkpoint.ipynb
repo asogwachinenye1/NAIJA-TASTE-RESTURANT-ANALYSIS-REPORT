{
 "cells": [
  {
   "cell_type": "markdown",
   "id": "a3478d31-41f7-40c2-a002-79c00f8328ec",
   "metadata": {},
   "source": [
    "# installing libraies like pandas,seaborn,matplotlib.pyplot\n"
   ]
  },
  {
   "cell_type": "code",
   "execution_count": 1,
   "id": "a5a30a7f-66da-4236-8a0a-161a59e740bf",
   "metadata": {},
   "outputs": [],
   "source": [
    "import pandas as pd\n",
    "import matplotlib.pyplot as plt\n",
    "import seaborn as sns\n",
    "pd.set_option('display.max_rows',None)\n",
    "pd.set_option('display.max_columns',None)"
   ]
  },
  {
   "cell_type": "markdown",
   "id": "1293ad94-d6d2-435b-a05b-e8cddac0cc16",
   "metadata": {},
   "source": [
    "# copying file path"
   ]
  },
  {
   "cell_type": "code",
   "execution_count": 2,
   "id": "52be89ad-2a6f-44bc-9b7c-b804d0050e00",
   "metadata": {},
   "outputs": [],
   "source": [
    "customer_path=r\"C:\\Users\\G\\Desktop\\Naija Tastes Restaurant\\customers.csv\"\n",
    "product_path=r\"C:\\Users\\G\\Desktop\\Naija Tastes Restaurant\\products.csv\"\n",
    "sales_path=r\"C:\\Users\\G\\Desktop\\Naija Tastes Restaurant\\sales.csv\""
   ]
  },
  {
   "cell_type": "code",
   "execution_count": 3,
   "id": "9c95605d-16f4-48f0-b18b-bde9d334d72a",
   "metadata": {},
   "outputs": [],
   "source": [
    "# reading the file of the datasets\n",
    "customers_df=pd.read_csv(customer_path)\n",
    "product_df=pd.read_csv(product_path)\n",
    "sales_df=pd.read_csv(sales_path)"
   ]
  },
  {
   "cell_type": "code",
   "execution_count": 4,
   "id": "294e746f-fa7b-4f36-b98a-c2dc2560c5fa",
   "metadata": {},
   "outputs": [
    {
     "name": "stdout",
     "output_type": "stream",
     "text": [
      "   customer_id                name                  phone  \\\n",
      "0            1  Catherine Reynolds             3298724994   \n",
      "1            2          Rebecca Yu  +1-927-798-6554x44331   \n",
      "2            3     Christian Brown     321.379.5511x50909   \n",
      "3            4       John Thompson           702-779-1220   \n",
      "4            5        Steven Moore           928-235-4959   \n",
      "\n",
      "                         email  gender  age         location  \n",
      "0          tonya54@stewart.com    Male   25  Victoria Island  \n",
      "1      bondjessica@cannon.info    Male   56  Victoria Island  \n",
      "2       carterlisa@hotmail.com  Female   57            Ikeja  \n",
      "3  alexisanderson@figueroa.biz  Female   40            Ikeja  \n",
      "4             mark66@yahoo.com    Male   46         Surulere  \n"
     ]
    }
   ],
   "source": [
    "# displaying the first five row of the cutomers table\n",
    "print(customers_df.head())"
   ]
  },
  {
   "cell_type": "code",
   "execution_count": 5,
   "id": "a2d2626b-d53c-458f-bd27-1248f82e6480",
   "metadata": {},
   "outputs": [
    {
     "name": "stdout",
     "output_type": "stream",
     "text": [
      "    customer_id           name                  phone  \\\n",
      "95           96     James Hart    (021)863-1116x92746   \n",
      "96           97  Austin Ramsey  001-371-360-7987x0938   \n",
      "97           98  Rebecca Lopez  +1-570-250-9163x72028   \n",
      "98           99   Morgan Meyer             9173950695   \n",
      "99          100     Nancy Dunn     446-462-9726x30707   \n",
      "\n",
      "                         email  gender  age location  \n",
      "95  logan68@anderson-dixon.org    Male   49    Ikeja  \n",
      "96   courtneyvazquez@yahoo.com  Female   23    Ikeja  \n",
      "97        tthompson@miller.net  Female   52    Ikeja  \n",
      "98         anthony33@gmail.com    Male   58     Yaba  \n",
      "99        carlos74@johnson.com    Male   49    Lekki  \n"
     ]
    }
   ],
   "source": [
    "print(customers_df.tail())"
   ]
  },
  {
   "cell_type": "code",
   "execution_count": 6,
   "id": "ba57c90d-b233-4d5c-acec-deb436f7db51",
   "metadata": {},
   "outputs": [
    {
     "data": {
      "text/plain": [
       "Index(['customer_id', 'name', 'phone', 'email', 'gender', 'age', 'location'], dtype='object')"
      ]
     },
     "execution_count": 6,
     "metadata": {},
     "output_type": "execute_result"
    }
   ],
   "source": [
    "# checking for the columns in the table\n",
    "customers_df.columns"
   ]
  },
  {
   "cell_type": "code",
   "execution_count": 7,
   "id": "5a123e41-765f-4b2d-9c86-0d319949f4fd",
   "metadata": {},
   "outputs": [
    {
     "data": {
      "text/plain": [
       "(100, 7)"
      ]
     },
     "execution_count": 7,
     "metadata": {},
     "output_type": "execute_result"
    }
   ],
   "source": [
    "# number of columns and rows\n",
    "customers_df.shape"
   ]
  },
  {
   "cell_type": "code",
   "execution_count": 8,
   "id": "68cd561a-a019-4605-92bc-2f5e339eca2b",
   "metadata": {},
   "outputs": [
    {
     "name": "stdout",
     "output_type": "stream",
     "text": [
      "<class 'pandas.core.frame.DataFrame'>\n",
      "RangeIndex: 100 entries, 0 to 99\n",
      "Data columns (total 7 columns):\n",
      " #   Column       Non-Null Count  Dtype \n",
      "---  ------       --------------  ----- \n",
      " 0   customer_id  100 non-null    int64 \n",
      " 1   name         100 non-null    object\n",
      " 2   phone        100 non-null    object\n",
      " 3   email        100 non-null    object\n",
      " 4   gender       100 non-null    object\n",
      " 5   age          100 non-null    int64 \n",
      " 6   location     100 non-null    object\n",
      "dtypes: int64(2), object(5)\n",
      "memory usage: 5.6+ KB\n"
     ]
    }
   ],
   "source": [
    "# checking for missing value and datatype\n",
    "customers_df.info()"
   ]
  },
  {
   "cell_type": "code",
   "execution_count": 9,
   "id": "2ed2c215-81e3-4057-b941-b97b07dbcb05",
   "metadata": {},
   "outputs": [
    {
     "data": {
      "text/html": [
       "<div>\n",
       "<style scoped>\n",
       "    .dataframe tbody tr th:only-of-type {\n",
       "        vertical-align: middle;\n",
       "    }\n",
       "\n",
       "    .dataframe tbody tr th {\n",
       "        vertical-align: top;\n",
       "    }\n",
       "\n",
       "    .dataframe thead th {\n",
       "        text-align: right;\n",
       "    }\n",
       "</style>\n",
       "<table border=\"1\" class=\"dataframe\">\n",
       "  <thead>\n",
       "    <tr style=\"text-align: right;\">\n",
       "      <th></th>\n",
       "      <th>name</th>\n",
       "      <th>gender</th>\n",
       "      <th>location</th>\n",
       "    </tr>\n",
       "  </thead>\n",
       "  <tbody>\n",
       "    <tr>\n",
       "      <th>0</th>\n",
       "      <td>Catherine Reynolds</td>\n",
       "      <td>Male</td>\n",
       "      <td>Victoria Island</td>\n",
       "    </tr>\n",
       "    <tr>\n",
       "      <th>1</th>\n",
       "      <td>Rebecca Yu</td>\n",
       "      <td>Male</td>\n",
       "      <td>Victoria Island</td>\n",
       "    </tr>\n",
       "    <tr>\n",
       "      <th>2</th>\n",
       "      <td>Christian Brown</td>\n",
       "      <td>Female</td>\n",
       "      <td>Ikeja</td>\n",
       "    </tr>\n",
       "    <tr>\n",
       "      <th>3</th>\n",
       "      <td>John Thompson</td>\n",
       "      <td>Female</td>\n",
       "      <td>Ikeja</td>\n",
       "    </tr>\n",
       "    <tr>\n",
       "      <th>4</th>\n",
       "      <td>Steven Moore</td>\n",
       "      <td>Male</td>\n",
       "      <td>Surulere</td>\n",
       "    </tr>\n",
       "  </tbody>\n",
       "</table>\n",
       "</div>"
      ],
      "text/plain": [
       "                 name  gender         location\n",
       "0  Catherine Reynolds    Male  Victoria Island\n",
       "1          Rebecca Yu    Male  Victoria Island\n",
       "2     Christian Brown  Female            Ikeja\n",
       "3       John Thompson  Female            Ikeja\n",
       "4        Steven Moore    Male         Surulere"
      ]
     },
     "execution_count": 9,
     "metadata": {},
     "output_type": "execute_result"
    }
   ],
   "source": [
    "# listing the info in the columns of a table\n",
    "customers_df[[\"name\",\"gender\",\"location\"]].head()"
   ]
  },
  {
   "cell_type": "code",
   "execution_count": 10,
   "id": "d63078c5-e3c9-4a17-97c8-1773171304a7",
   "metadata": {},
   "outputs": [
    {
     "data": {
      "text/plain": [
       "Index(['CUSTOMER_ID', 'NAME', 'PHONE', 'EMAIL', 'GENDER', 'AGE', 'LOCATION'], dtype='object')"
      ]
     },
     "execution_count": 10,
     "metadata": {},
     "output_type": "execute_result"
    }
   ],
   "source": [
    "# changing case\n",
    "customers_df.columns.str.upper()"
   ]
  },
  {
   "cell_type": "code",
   "execution_count": 11,
   "id": "67f0e886-c2d6-4835-98fa-b435be6a1849",
   "metadata": {},
   "outputs": [
    {
     "data": {
      "text/plain": [
       "Index(['customer_id', 'name', 'phone', 'email', 'gender', 'age', 'location'], dtype='object')"
      ]
     },
     "execution_count": 11,
     "metadata": {},
     "output_type": "execute_result"
    }
   ],
   "source": [
    "customers_df.columns.str.lower()"
   ]
  },
  {
   "cell_type": "code",
   "execution_count": 12,
   "id": "0f9fc87e-ee27-4330-b746-df6ffe3f0a65",
   "metadata": {},
   "outputs": [],
   "source": [
    "# applying the expression to te columns\n",
    "#customers_df.columns.str.proper()"
   ]
  },
  {
   "cell_type": "code",
   "execution_count": 13,
   "id": "f0f125f7-d436-4279-84b6-1b22a068d2dd",
   "metadata": {},
   "outputs": [],
   "source": [
    "# applying the expression to te columns\n",
    "customers_df.columns =customers_df.columns.str.lower()"
   ]
  },
  {
   "cell_type": "code",
   "execution_count": 14,
   "id": "fd19cd36-d3c6-44b0-b2ed-ae5393f276a0",
   "metadata": {},
   "outputs": [],
   "source": [
    "# triming all the columns..incase you want a particular column,you have name the column\n",
    "#customers_df.columns.str.strip(inplace=True)"
   ]
  },
  {
   "cell_type": "code",
   "execution_count": 15,
   "id": "e4f7d3d2-9c5d-4107-8fec-a68c8ea0316f",
   "metadata": {},
   "outputs": [
    {
     "data": {
      "text/plain": [
       "np.False_"
      ]
     },
     "execution_count": 15,
     "metadata": {},
     "output_type": "execute_result"
    }
   ],
   "source": [
    " #checking for duplicated rows\n",
    "customers_df.duplicated().any()"
   ]
  },
  {
   "cell_type": "code",
   "execution_count": 16,
   "id": "140a329c-f60e-49d1-b76a-13d0a77825c1",
   "metadata": {},
   "outputs": [
    {
     "data": {
      "text/plain": [
       "np.int64(0)"
      ]
     },
     "execution_count": 16,
     "metadata": {},
     "output_type": "execute_result"
    }
   ],
   "source": [
    "# checking for number of duplicated rows\n",
    "duplicated_rows=customers_df.duplicated().sum()\n",
    "duplicated_rows"
   ]
  },
  {
   "cell_type": "code",
   "execution_count": 17,
   "id": "a6455306-694b-4a1d-9e88-f1f22a436d42",
   "metadata": {},
   "outputs": [
    {
     "name": "stdout",
     "output_type": "stream",
     "text": [
      "There is no duplicated rows in the dataset\n"
     ]
    }
   ],
   "source": [
    "#handling if duplicated rows is greater than zero\n",
    "if duplicated_rows > 0 :\n",
    "    print(f'There are {duplicated_rows} duplicated rows in the datasets')\n",
    "    # remove duplicate\n",
    "    customers_df.drop_duplicates(inplace =True)\n",
    "    print('The duplicated rows have been dropped')\n",
    "else:\n",
    "    print('There is no duplicated rows in the dataset')"
   ]
  },
  {
   "cell_type": "code",
   "execution_count": 18,
   "id": "ddd3eee8-bf89-408c-94bf-666348101159",
   "metadata": {},
   "outputs": [
    {
     "data": {
      "text/plain": [
       "customer_id    False\n",
       "name           False\n",
       "phone          False\n",
       "email          False\n",
       "gender         False\n",
       "age            False\n",
       "location       False\n",
       "dtype: bool"
      ]
     },
     "execution_count": 18,
     "metadata": {},
     "output_type": "execute_result"
    }
   ],
   "source": [
    "# checking for missing values\n",
    "customers_df.isnull().any()"
   ]
  },
  {
   "cell_type": "code",
   "execution_count": 19,
   "id": "feeaad51-4a2f-48d9-ae6d-c974f1160fc0",
   "metadata": {},
   "outputs": [
    {
     "name": "stdout",
     "output_type": "stream",
     "text": [
      "Index(['customer_id', 'name', 'phone', 'email', 'gender', 'age', 'location'], dtype='object')\n",
      "\n",
      "Index(['product_id', 'product_name', 'price'], dtype='object')\n",
      "\n",
      "Index(['sale_id', 'customer_id', 'product_id', 'quantity', 'total_price',\n",
      "       'payment_method', 'sale_date'],\n",
      "      dtype='object')\n"
     ]
    }
   ],
   "source": [
    "# checking for primary key that are common\n",
    "print(customers_df.columns)\n",
    "print()\n",
    "print(product_df.columns)\n",
    "print()\n",
    "print(sales_df.columns)\n",
    "\n"
   ]
  },
  {
   "cell_type": "code",
   "execution_count": 20,
   "id": "91516d52-0bc4-47d4-a6d3-58e6cd1ae723",
   "metadata": {},
   "outputs": [],
   "source": [
    "# merging a table\n",
    "customer_sales_df=customers_df.merge(sales_df,how='left',on = 'customer_id')"
   ]
  },
  {
   "cell_type": "code",
   "execution_count": 21,
   "id": "11a1361a-cac8-4558-8691-d2ba29a3f624",
   "metadata": {},
   "outputs": [
    {
     "data": {
      "text/html": [
       "<div>\n",
       "<style scoped>\n",
       "    .dataframe tbody tr th:only-of-type {\n",
       "        vertical-align: middle;\n",
       "    }\n",
       "\n",
       "    .dataframe tbody tr th {\n",
       "        vertical-align: top;\n",
       "    }\n",
       "\n",
       "    .dataframe thead th {\n",
       "        text-align: right;\n",
       "    }\n",
       "</style>\n",
       "<table border=\"1\" class=\"dataframe\">\n",
       "  <thead>\n",
       "    <tr style=\"text-align: right;\">\n",
       "      <th></th>\n",
       "      <th>customer_id</th>\n",
       "      <th>name</th>\n",
       "      <th>phone</th>\n",
       "      <th>email</th>\n",
       "      <th>gender</th>\n",
       "      <th>age</th>\n",
       "      <th>location</th>\n",
       "      <th>sale_id</th>\n",
       "      <th>product_id</th>\n",
       "      <th>quantity</th>\n",
       "      <th>total_price</th>\n",
       "      <th>payment_method</th>\n",
       "      <th>sale_date</th>\n",
       "    </tr>\n",
       "  </thead>\n",
       "  <tbody>\n",
       "    <tr>\n",
       "      <th>0</th>\n",
       "      <td>1</td>\n",
       "      <td>Catherine Reynolds</td>\n",
       "      <td>3298724994</td>\n",
       "      <td>tonya54@stewart.com</td>\n",
       "      <td>Male</td>\n",
       "      <td>25</td>\n",
       "      <td>Victoria Island</td>\n",
       "      <td>97.0</td>\n",
       "      <td>5.0</td>\n",
       "      <td>3.0</td>\n",
       "      <td>8100.0</td>\n",
       "      <td>Cash</td>\n",
       "      <td>2025-01-13</td>\n",
       "    </tr>\n",
       "    <tr>\n",
       "      <th>1</th>\n",
       "      <td>1</td>\n",
       "      <td>Catherine Reynolds</td>\n",
       "      <td>3298724994</td>\n",
       "      <td>tonya54@stewart.com</td>\n",
       "      <td>Male</td>\n",
       "      <td>25</td>\n",
       "      <td>Victoria Island</td>\n",
       "      <td>345.0</td>\n",
       "      <td>1.0</td>\n",
       "      <td>1.0</td>\n",
       "      <td>2500.0</td>\n",
       "      <td>Transfer</td>\n",
       "      <td>2025-01-25</td>\n",
       "    </tr>\n",
       "    <tr>\n",
       "      <th>2</th>\n",
       "      <td>2</td>\n",
       "      <td>Rebecca Yu</td>\n",
       "      <td>+1-927-798-6554x44331</td>\n",
       "      <td>bondjessica@cannon.info</td>\n",
       "      <td>Male</td>\n",
       "      <td>56</td>\n",
       "      <td>Victoria Island</td>\n",
       "      <td>9.0</td>\n",
       "      <td>7.0</td>\n",
       "      <td>1.0</td>\n",
       "      <td>2000.0</td>\n",
       "      <td>Transfer</td>\n",
       "      <td>2025-01-14</td>\n",
       "    </tr>\n",
       "    <tr>\n",
       "      <th>3</th>\n",
       "      <td>2</td>\n",
       "      <td>Rebecca Yu</td>\n",
       "      <td>+1-927-798-6554x44331</td>\n",
       "      <td>bondjessica@cannon.info</td>\n",
       "      <td>Male</td>\n",
       "      <td>56</td>\n",
       "      <td>Victoria Island</td>\n",
       "      <td>126.0</td>\n",
       "      <td>10.0</td>\n",
       "      <td>2.0</td>\n",
       "      <td>3600.0</td>\n",
       "      <td>Cash</td>\n",
       "      <td>2025-01-18</td>\n",
       "    </tr>\n",
       "    <tr>\n",
       "      <th>4</th>\n",
       "      <td>2</td>\n",
       "      <td>Rebecca Yu</td>\n",
       "      <td>+1-927-798-6554x44331</td>\n",
       "      <td>bondjessica@cannon.info</td>\n",
       "      <td>Male</td>\n",
       "      <td>56</td>\n",
       "      <td>Victoria Island</td>\n",
       "      <td>194.0</td>\n",
       "      <td>4.0</td>\n",
       "      <td>3.0</td>\n",
       "      <td>8400.0</td>\n",
       "      <td>Cash</td>\n",
       "      <td>2024-12-15</td>\n",
       "    </tr>\n",
       "  </tbody>\n",
       "</table>\n",
       "</div>"
      ],
      "text/plain": [
       "   customer_id                name                  phone  \\\n",
       "0            1  Catherine Reynolds             3298724994   \n",
       "1            1  Catherine Reynolds             3298724994   \n",
       "2            2          Rebecca Yu  +1-927-798-6554x44331   \n",
       "3            2          Rebecca Yu  +1-927-798-6554x44331   \n",
       "4            2          Rebecca Yu  +1-927-798-6554x44331   \n",
       "\n",
       "                     email gender  age         location  sale_id  product_id  \\\n",
       "0      tonya54@stewart.com   Male   25  Victoria Island     97.0         5.0   \n",
       "1      tonya54@stewart.com   Male   25  Victoria Island    345.0         1.0   \n",
       "2  bondjessica@cannon.info   Male   56  Victoria Island      9.0         7.0   \n",
       "3  bondjessica@cannon.info   Male   56  Victoria Island    126.0        10.0   \n",
       "4  bondjessica@cannon.info   Male   56  Victoria Island    194.0         4.0   \n",
       "\n",
       "   quantity  total_price payment_method   sale_date  \n",
       "0       3.0       8100.0           Cash  2025-01-13  \n",
       "1       1.0       2500.0       Transfer  2025-01-25  \n",
       "2       1.0       2000.0       Transfer  2025-01-14  \n",
       "3       2.0       3600.0           Cash  2025-01-18  \n",
       "4       3.0       8400.0           Cash  2024-12-15  "
      ]
     },
     "execution_count": 21,
     "metadata": {},
     "output_type": "execute_result"
    }
   ],
   "source": [
    "customer_sales_df.head()"
   ]
  },
  {
   "cell_type": "code",
   "execution_count": 22,
   "id": "3f7337df-f615-4045-b210-560bb31500fe",
   "metadata": {},
   "outputs": [
    {
     "data": {
      "text/plain": [
       "Index(['customer_id', 'name', 'phone', 'email', 'gender', 'age', 'location',\n",
       "       'sale_id', 'product_id', 'quantity', 'total_price', 'payment_method',\n",
       "       'sale_date'],\n",
       "      dtype='object')"
      ]
     },
     "execution_count": 22,
     "metadata": {},
     "output_type": "execute_result"
    }
   ],
   "source": [
    "# checking for the columns in your table\n",
    "customer_sales_df.columns"
   ]
  },
  {
   "cell_type": "code",
   "execution_count": 23,
   "id": "8f7383d0-113f-462b-b353-db99b29da502",
   "metadata": {},
   "outputs": [
    {
     "name": "stdout",
     "output_type": "stream",
     "text": [
      "<class 'pandas.core.frame.DataFrame'>\n",
      "RangeIndex: 501 entries, 0 to 500\n",
      "Data columns (total 13 columns):\n",
      " #   Column          Non-Null Count  Dtype  \n",
      "---  ------          --------------  -----  \n",
      " 0   customer_id     501 non-null    int64  \n",
      " 1   name            501 non-null    object \n",
      " 2   phone           501 non-null    object \n",
      " 3   email           501 non-null    object \n",
      " 4   gender          501 non-null    object \n",
      " 5   age             501 non-null    int64  \n",
      " 6   location        501 non-null    object \n",
      " 7   sale_id         500 non-null    float64\n",
      " 8   product_id      500 non-null    float64\n",
      " 9   quantity        500 non-null    float64\n",
      " 10  total_price     500 non-null    float64\n",
      " 11  payment_method  500 non-null    object \n",
      " 12  sale_date       500 non-null    object \n",
      "dtypes: float64(4), int64(2), object(7)\n",
      "memory usage: 51.0+ KB\n"
     ]
    }
   ],
   "source": [
    "# checking for missing values,data types\n",
    "customer_sales_df.info()"
   ]
  },
  {
   "cell_type": "code",
   "execution_count": 24,
   "id": "f68a7fa9-d1d7-4862-849a-20aacdb00aca",
   "metadata": {},
   "outputs": [],
   "source": [
    "# merging a table on the left\n",
    "df=customer_sales_df.merge(product_df,how='left',on='product_id')"
   ]
  },
  {
   "cell_type": "code",
   "execution_count": 25,
   "id": "f157d29d-f3f3-448b-96c4-2ac5dd6a8b54",
   "metadata": {},
   "outputs": [
    {
     "name": "stdout",
     "output_type": "stream",
     "text": [
      "<class 'pandas.core.frame.DataFrame'>\n",
      "RangeIndex: 501 entries, 0 to 500\n",
      "Data columns (total 15 columns):\n",
      " #   Column          Non-Null Count  Dtype  \n",
      "---  ------          --------------  -----  \n",
      " 0   customer_id     501 non-null    int64  \n",
      " 1   name            501 non-null    object \n",
      " 2   phone           501 non-null    object \n",
      " 3   email           501 non-null    object \n",
      " 4   gender          501 non-null    object \n",
      " 5   age             501 non-null    int64  \n",
      " 6   location        501 non-null    object \n",
      " 7   sale_id         500 non-null    float64\n",
      " 8   product_id      500 non-null    float64\n",
      " 9   quantity        500 non-null    float64\n",
      " 10  total_price     500 non-null    float64\n",
      " 11  payment_method  500 non-null    object \n",
      " 12  sale_date       500 non-null    object \n",
      " 13  product_name    500 non-null    object \n",
      " 14  price           500 non-null    float64\n",
      "dtypes: float64(5), int64(2), object(8)\n",
      "memory usage: 58.8+ KB\n"
     ]
    }
   ],
   "source": [
    "df.info()"
   ]
  },
  {
   "cell_type": "code",
   "execution_count": 26,
   "id": "495e01b3-6df2-4545-b1b2-1825751bac6e",
   "metadata": {},
   "outputs": [
    {
     "data": {
      "text/plain": [
       "np.int64(0)"
      ]
     },
     "execution_count": 26,
     "metadata": {},
     "output_type": "execute_result"
    }
   ],
   "source": [
    "# checking for duplication and number of duplicates\n",
    "duplicated_rows=df.duplicated().sum()\n",
    "duplicated_rows"
   ]
  },
  {
   "cell_type": "code",
   "execution_count": 27,
   "id": "6d01b6e9-7360-4dbe-a740-4c6e0e3a178e",
   "metadata": {},
   "outputs": [
    {
     "data": {
      "text/plain": [
       "customer_id       False\n",
       "name              False\n",
       "phone             False\n",
       "email             False\n",
       "gender            False\n",
       "age               False\n",
       "location          False\n",
       "sale_id            True\n",
       "product_id         True\n",
       "quantity           True\n",
       "total_price        True\n",
       "payment_method     True\n",
       "sale_date          True\n",
       "product_name       True\n",
       "price              True\n",
       "dtype: bool"
      ]
     },
     "execution_count": 27,
     "metadata": {},
     "output_type": "execute_result"
    }
   ],
   "source": [
    "df.isnull().any()"
   ]
  },
  {
   "cell_type": "code",
   "execution_count": 28,
   "id": "b2e120aa-7ff4-4162-a367-d30c13202e39",
   "metadata": {},
   "outputs": [
    {
     "data": {
      "text/plain": [
       "customer_id       0\n",
       "name              0\n",
       "phone             0\n",
       "email             0\n",
       "gender            0\n",
       "age               0\n",
       "location          0\n",
       "sale_id           1\n",
       "product_id        1\n",
       "quantity          1\n",
       "total_price       1\n",
       "payment_method    1\n",
       "sale_date         1\n",
       "product_name      1\n",
       "price             1\n",
       "dtype: int64"
      ]
     },
     "execution_count": 28,
     "metadata": {},
     "output_type": "execute_result"
    }
   ],
   "source": [
    "df.isnull().sum()\n"
   ]
  },
  {
   "cell_type": "code",
   "execution_count": 29,
   "id": "49ff6ff4-915f-41b4-8c15-deb98a524b1a",
   "metadata": {},
   "outputs": [],
   "source": [
    "# dropping missing values\n",
    "df.dropna(inplace=True)"
   ]
  },
  {
   "cell_type": "code",
   "execution_count": 30,
   "id": "ec24d7c2-0a59-4240-a9ca-4b166546d0b3",
   "metadata": {},
   "outputs": [
    {
     "data": {
      "text/plain": [
       "customer_id       0\n",
       "name              0\n",
       "phone             0\n",
       "email             0\n",
       "gender            0\n",
       "age               0\n",
       "location          0\n",
       "sale_id           0\n",
       "product_id        0\n",
       "quantity          0\n",
       "total_price       0\n",
       "payment_method    0\n",
       "sale_date         0\n",
       "product_name      0\n",
       "price             0\n",
       "dtype: int64"
      ]
     },
     "execution_count": 30,
     "metadata": {},
     "output_type": "execute_result"
    }
   ],
   "source": [
    "df.isnull().sum()"
   ]
  },
  {
   "cell_type": "code",
   "execution_count": 31,
   "id": "2c4e86a1-798e-4a5b-ab9f-80a8c562ea43",
   "metadata": {},
   "outputs": [
    {
     "data": {
      "text/plain": [
       "dtype('O')"
      ]
     },
     "execution_count": 31,
     "metadata": {},
     "output_type": "execute_result"
    }
   ],
   "source": [
    "# checking data type of a column\n",
    "df['sale_date'].dtypes"
   ]
  },
  {
   "cell_type": "code",
   "execution_count": 32,
   "id": "ef8c2237-6197-4845-b13b-6ecffed9cf45",
   "metadata": {},
   "outputs": [],
   "source": [
    "#changing datatyp\n",
    "df['sale_date']=pd.to_datetime(df['sale_date'])"
   ]
  },
  {
   "cell_type": "code",
   "execution_count": 33,
   "id": "3f2d00de-297e-4894-ae59-8092c42a4f7a",
   "metadata": {},
   "outputs": [
    {
     "data": {
      "text/plain": [
       "customer_id                int64\n",
       "name                      object\n",
       "phone                     object\n",
       "email                     object\n",
       "gender                    object\n",
       "age                        int64\n",
       "location                  object\n",
       "sale_id                  float64\n",
       "product_id               float64\n",
       "quantity                 float64\n",
       "total_price              float64\n",
       "payment_method            object\n",
       "sale_date         datetime64[ns]\n",
       "product_name              object\n",
       "price                    float64\n",
       "dtype: object"
      ]
     },
     "execution_count": 33,
     "metadata": {},
     "output_type": "execute_result"
    }
   ],
   "source": [
    "df.dtypes"
   ]
  },
  {
   "cell_type": "code",
   "execution_count": 34,
   "id": "6a376adc-f21b-423d-b2a4-4902d52fdbcd",
   "metadata": {},
   "outputs": [],
   "source": [
    "#EXTRACTING MONTHNAME DAYNAME\n",
    "df['month_name']=pd.to_datetime(df['sale_date']).dt.month_name()\n",
    "df['day_name']=pd.to_datetime(df['sale_date']).dt.day_name()"
   ]
  },
  {
   "cell_type": "code",
   "execution_count": 35,
   "id": "89e5cd8e-4a8c-4e4e-ade0-babbdafee177",
   "metadata": {},
   "outputs": [],
   "source": [
    "# changing a column name\n",
    "df=df.rename(columns={'total_price':'total_sales'})"
   ]
  },
  {
   "cell_type": "code",
   "execution_count": 36,
   "id": "e60ebe66-6d42-4104-b954-075dfb068800",
   "metadata": {},
   "outputs": [
    {
     "data": {
      "text/plain": [
       "Index(['customer_id', 'name', 'phone', 'email', 'gender', 'age', 'location',\n",
       "       'sale_id', 'product_id', 'quantity', 'total_sales', 'payment_method',\n",
       "       'sale_date', 'product_name', 'price', 'month_name', 'day_name'],\n",
       "      dtype='object')"
      ]
     },
     "execution_count": 36,
     "metadata": {},
     "output_type": "execute_result"
    }
   ],
   "source": [
    "df.columns"
   ]
  },
  {
   "cell_type": "code",
   "execution_count": 37,
   "id": "38318a73-14c7-408c-adc7-7a55226ced88",
   "metadata": {},
   "outputs": [],
   "source": [
    "# grouping...\n",
    "df['age_group']=df['age'].apply(lambda age : 'Young Adult' if 18 <= age <= 29 else 'Mid Adult' if 30 <= age <= 44 else 'Older Adult' if 45 <= age <= 59 else 'Pre Retirement')"
   ]
  },
  {
   "cell_type": "code",
   "execution_count": 38,
   "id": "304da5de-e10c-4dbe-99eb-2a3b1e2a50ae",
   "metadata": {},
   "outputs": [
    {
     "data": {
      "text/html": [
       "<div>\n",
       "<style scoped>\n",
       "    .dataframe tbody tr th:only-of-type {\n",
       "        vertical-align: middle;\n",
       "    }\n",
       "\n",
       "    .dataframe tbody tr th {\n",
       "        vertical-align: top;\n",
       "    }\n",
       "\n",
       "    .dataframe thead th {\n",
       "        text-align: right;\n",
       "    }\n",
       "</style>\n",
       "<table border=\"1\" class=\"dataframe\">\n",
       "  <thead>\n",
       "    <tr style=\"text-align: right;\">\n",
       "      <th></th>\n",
       "      <th>customer_id</th>\n",
       "      <th>name</th>\n",
       "      <th>phone</th>\n",
       "      <th>email</th>\n",
       "      <th>gender</th>\n",
       "      <th>age</th>\n",
       "      <th>location</th>\n",
       "      <th>sale_id</th>\n",
       "      <th>product_id</th>\n",
       "      <th>quantity</th>\n",
       "      <th>total_sales</th>\n",
       "      <th>payment_method</th>\n",
       "      <th>sale_date</th>\n",
       "      <th>product_name</th>\n",
       "      <th>price</th>\n",
       "      <th>month_name</th>\n",
       "      <th>day_name</th>\n",
       "      <th>age_group</th>\n",
       "    </tr>\n",
       "  </thead>\n",
       "  <tbody>\n",
       "    <tr>\n",
       "      <th>0</th>\n",
       "      <td>1</td>\n",
       "      <td>Catherine Reynolds</td>\n",
       "      <td>3298724994</td>\n",
       "      <td>tonya54@stewart.com</td>\n",
       "      <td>Male</td>\n",
       "      <td>25</td>\n",
       "      <td>Victoria Island</td>\n",
       "      <td>97.0</td>\n",
       "      <td>5.0</td>\n",
       "      <td>3.0</td>\n",
       "      <td>8100.0</td>\n",
       "      <td>Cash</td>\n",
       "      <td>2025-01-13</td>\n",
       "      <td>Amala &amp; Ewedu</td>\n",
       "      <td>2700.0</td>\n",
       "      <td>January</td>\n",
       "      <td>Monday</td>\n",
       "      <td>Young Adult</td>\n",
       "    </tr>\n",
       "    <tr>\n",
       "      <th>1</th>\n",
       "      <td>1</td>\n",
       "      <td>Catherine Reynolds</td>\n",
       "      <td>3298724994</td>\n",
       "      <td>tonya54@stewart.com</td>\n",
       "      <td>Male</td>\n",
       "      <td>25</td>\n",
       "      <td>Victoria Island</td>\n",
       "      <td>345.0</td>\n",
       "      <td>1.0</td>\n",
       "      <td>1.0</td>\n",
       "      <td>2500.0</td>\n",
       "      <td>Transfer</td>\n",
       "      <td>2025-01-25</td>\n",
       "      <td>Jollof Rice &amp; Chicken</td>\n",
       "      <td>2500.0</td>\n",
       "      <td>January</td>\n",
       "      <td>Saturday</td>\n",
       "      <td>Young Adult</td>\n",
       "    </tr>\n",
       "    <tr>\n",
       "      <th>2</th>\n",
       "      <td>2</td>\n",
       "      <td>Rebecca Yu</td>\n",
       "      <td>+1-927-798-6554x44331</td>\n",
       "      <td>bondjessica@cannon.info</td>\n",
       "      <td>Male</td>\n",
       "      <td>56</td>\n",
       "      <td>Victoria Island</td>\n",
       "      <td>9.0</td>\n",
       "      <td>7.0</td>\n",
       "      <td>1.0</td>\n",
       "      <td>2000.0</td>\n",
       "      <td>Transfer</td>\n",
       "      <td>2025-01-14</td>\n",
       "      <td>Pepper Soup</td>\n",
       "      <td>2000.0</td>\n",
       "      <td>January</td>\n",
       "      <td>Tuesday</td>\n",
       "      <td>Older Adult</td>\n",
       "    </tr>\n",
       "    <tr>\n",
       "      <th>3</th>\n",
       "      <td>2</td>\n",
       "      <td>Rebecca Yu</td>\n",
       "      <td>+1-927-798-6554x44331</td>\n",
       "      <td>bondjessica@cannon.info</td>\n",
       "      <td>Male</td>\n",
       "      <td>56</td>\n",
       "      <td>Victoria Island</td>\n",
       "      <td>126.0</td>\n",
       "      <td>10.0</td>\n",
       "      <td>2.0</td>\n",
       "      <td>3600.0</td>\n",
       "      <td>Cash</td>\n",
       "      <td>2025-01-18</td>\n",
       "      <td>Palm Wine</td>\n",
       "      <td>1800.0</td>\n",
       "      <td>January</td>\n",
       "      <td>Saturday</td>\n",
       "      <td>Older Adult</td>\n",
       "    </tr>\n",
       "    <tr>\n",
       "      <th>4</th>\n",
       "      <td>2</td>\n",
       "      <td>Rebecca Yu</td>\n",
       "      <td>+1-927-798-6554x44331</td>\n",
       "      <td>bondjessica@cannon.info</td>\n",
       "      <td>Male</td>\n",
       "      <td>56</td>\n",
       "      <td>Victoria Island</td>\n",
       "      <td>194.0</td>\n",
       "      <td>4.0</td>\n",
       "      <td>3.0</td>\n",
       "      <td>8400.0</td>\n",
       "      <td>Cash</td>\n",
       "      <td>2024-12-15</td>\n",
       "      <td>Eba &amp; Ogbono Soup</td>\n",
       "      <td>2800.0</td>\n",
       "      <td>December</td>\n",
       "      <td>Sunday</td>\n",
       "      <td>Older Adult</td>\n",
       "    </tr>\n",
       "  </tbody>\n",
       "</table>\n",
       "</div>"
      ],
      "text/plain": [
       "   customer_id                name                  phone  \\\n",
       "0            1  Catherine Reynolds             3298724994   \n",
       "1            1  Catherine Reynolds             3298724994   \n",
       "2            2          Rebecca Yu  +1-927-798-6554x44331   \n",
       "3            2          Rebecca Yu  +1-927-798-6554x44331   \n",
       "4            2          Rebecca Yu  +1-927-798-6554x44331   \n",
       "\n",
       "                     email gender  age         location  sale_id  product_id  \\\n",
       "0      tonya54@stewart.com   Male   25  Victoria Island     97.0         5.0   \n",
       "1      tonya54@stewart.com   Male   25  Victoria Island    345.0         1.0   \n",
       "2  bondjessica@cannon.info   Male   56  Victoria Island      9.0         7.0   \n",
       "3  bondjessica@cannon.info   Male   56  Victoria Island    126.0        10.0   \n",
       "4  bondjessica@cannon.info   Male   56  Victoria Island    194.0         4.0   \n",
       "\n",
       "   quantity  total_sales payment_method  sale_date           product_name  \\\n",
       "0       3.0       8100.0           Cash 2025-01-13          Amala & Ewedu   \n",
       "1       1.0       2500.0       Transfer 2025-01-25  Jollof Rice & Chicken   \n",
       "2       1.0       2000.0       Transfer 2025-01-14            Pepper Soup   \n",
       "3       2.0       3600.0           Cash 2025-01-18              Palm Wine   \n",
       "4       3.0       8400.0           Cash 2024-12-15      Eba & Ogbono Soup   \n",
       "\n",
       "    price month_name  day_name    age_group  \n",
       "0  2700.0    January    Monday  Young Adult  \n",
       "1  2500.0    January  Saturday  Young Adult  \n",
       "2  2000.0    January   Tuesday  Older Adult  \n",
       "3  1800.0    January  Saturday  Older Adult  \n",
       "4  2800.0   December    Sunday  Older Adult  "
      ]
     },
     "execution_count": 38,
     "metadata": {},
     "output_type": "execute_result"
    }
   ],
   "source": [
    "df.head()"
   ]
  },
  {
   "cell_type": "code",
   "execution_count": 39,
   "id": "b9d72c5d-aba4-4d00-8cdc-df6e534a160d",
   "metadata": {},
   "outputs": [
    {
     "data": {
      "text/html": [
       "<div>\n",
       "<style scoped>\n",
       "    .dataframe tbody tr th:only-of-type {\n",
       "        vertical-align: middle;\n",
       "    }\n",
       "\n",
       "    .dataframe tbody tr th {\n",
       "        vertical-align: top;\n",
       "    }\n",
       "\n",
       "    .dataframe thead th {\n",
       "        text-align: right;\n",
       "    }\n",
       "</style>\n",
       "<table border=\"1\" class=\"dataframe\">\n",
       "  <thead>\n",
       "    <tr style=\"text-align: right;\">\n",
       "      <th></th>\n",
       "      <th>count</th>\n",
       "      <th>mean</th>\n",
       "      <th>min</th>\n",
       "      <th>25%</th>\n",
       "      <th>50%</th>\n",
       "      <th>75%</th>\n",
       "      <th>max</th>\n",
       "      <th>std</th>\n",
       "    </tr>\n",
       "  </thead>\n",
       "  <tbody>\n",
       "    <tr>\n",
       "      <th>customer_id</th>\n",
       "      <td>500.0</td>\n",
       "      <td>49.85</td>\n",
       "      <td>1.0</td>\n",
       "      <td>27.0</td>\n",
       "      <td>48.0</td>\n",
       "      <td>73.0</td>\n",
       "      <td>100.0</td>\n",
       "      <td>28.016376</td>\n",
       "    </tr>\n",
       "    <tr>\n",
       "      <th>age</th>\n",
       "      <td>500.0</td>\n",
       "      <td>38.22</td>\n",
       "      <td>18.0</td>\n",
       "      <td>28.75</td>\n",
       "      <td>38.0</td>\n",
       "      <td>49.0</td>\n",
       "      <td>60.0</td>\n",
       "      <td>12.571543</td>\n",
       "    </tr>\n",
       "    <tr>\n",
       "      <th>sale_id</th>\n",
       "      <td>500.0</td>\n",
       "      <td>250.5</td>\n",
       "      <td>1.0</td>\n",
       "      <td>125.75</td>\n",
       "      <td>250.5</td>\n",
       "      <td>375.25</td>\n",
       "      <td>500.0</td>\n",
       "      <td>144.481833</td>\n",
       "    </tr>\n",
       "    <tr>\n",
       "      <th>product_id</th>\n",
       "      <td>500.0</td>\n",
       "      <td>5.782</td>\n",
       "      <td>1.0</td>\n",
       "      <td>3.0</td>\n",
       "      <td>6.0</td>\n",
       "      <td>8.25</td>\n",
       "      <td>10.0</td>\n",
       "      <td>2.943434</td>\n",
       "    </tr>\n",
       "    <tr>\n",
       "      <th>quantity</th>\n",
       "      <td>500.0</td>\n",
       "      <td>2.01</td>\n",
       "      <td>1.0</td>\n",
       "      <td>1.0</td>\n",
       "      <td>2.0</td>\n",
       "      <td>3.0</td>\n",
       "      <td>3.0</td>\n",
       "      <td>0.809451</td>\n",
       "    </tr>\n",
       "    <tr>\n",
       "      <th>total_sales</th>\n",
       "      <td>500.0</td>\n",
       "      <td>4571.6</td>\n",
       "      <td>1000.0</td>\n",
       "      <td>2700.0</td>\n",
       "      <td>4000.0</td>\n",
       "      <td>6000.0</td>\n",
       "      <td>10500.0</td>\n",
       "      <td>2433.153079</td>\n",
       "    </tr>\n",
       "    <tr>\n",
       "      <th>sale_date</th>\n",
       "      <td>500</td>\n",
       "      <td>2024-12-23 20:38:24</td>\n",
       "      <td>2024-11-09 00:00:00</td>\n",
       "      <td>2024-11-30 00:00:00</td>\n",
       "      <td>2024-12-24 00:00:00</td>\n",
       "      <td>2025-01-15 00:00:00</td>\n",
       "      <td>2025-02-08 00:00:00</td>\n",
       "      <td>NaN</td>\n",
       "    </tr>\n",
       "    <tr>\n",
       "      <th>price</th>\n",
       "      <td>500.0</td>\n",
       "      <td>2258.8</td>\n",
       "      <td>1000.0</td>\n",
       "      <td>1800.0</td>\n",
       "      <td>2300.0</td>\n",
       "      <td>2800.0</td>\n",
       "      <td>3500.0</td>\n",
       "      <td>724.231719</td>\n",
       "    </tr>\n",
       "  </tbody>\n",
       "</table>\n",
       "</div>"
      ],
      "text/plain": [
       "             count                 mean                  min  \\\n",
       "customer_id  500.0                49.85                  1.0   \n",
       "age          500.0                38.22                 18.0   \n",
       "sale_id      500.0                250.5                  1.0   \n",
       "product_id   500.0                5.782                  1.0   \n",
       "quantity     500.0                 2.01                  1.0   \n",
       "total_sales  500.0               4571.6               1000.0   \n",
       "sale_date      500  2024-12-23 20:38:24  2024-11-09 00:00:00   \n",
       "price        500.0               2258.8               1000.0   \n",
       "\n",
       "                             25%                  50%                  75%  \\\n",
       "customer_id                 27.0                 48.0                 73.0   \n",
       "age                        28.75                 38.0                 49.0   \n",
       "sale_id                   125.75                250.5               375.25   \n",
       "product_id                   3.0                  6.0                 8.25   \n",
       "quantity                     1.0                  2.0                  3.0   \n",
       "total_sales               2700.0               4000.0               6000.0   \n",
       "sale_date    2024-11-30 00:00:00  2024-12-24 00:00:00  2025-01-15 00:00:00   \n",
       "price                     1800.0               2300.0               2800.0   \n",
       "\n",
       "                             max          std  \n",
       "customer_id                100.0    28.016376  \n",
       "age                         60.0    12.571543  \n",
       "sale_id                    500.0   144.481833  \n",
       "product_id                  10.0     2.943434  \n",
       "quantity                     3.0     0.809451  \n",
       "total_sales              10500.0  2433.153079  \n",
       "sale_date    2025-02-08 00:00:00          NaN  \n",
       "price                     3500.0   724.231719  "
      ]
     },
     "execution_count": 39,
     "metadata": {},
     "output_type": "execute_result"
    }
   ],
   "source": [
    "# descriptive statistics and transpossing\n",
    "df.describe().T"
   ]
  },
  {
   "cell_type": "code",
   "execution_count": 40,
   "id": "c16b2ddd-8581-4364-bee0-0912ad74c936",
   "metadata": {},
   "outputs": [
    {
     "data": {
      "image/png": "[encoded data removed]",
      "text/plain": [
       "<Figure size 640x480 with 1 Axes>"
      ]
     },
     "metadata": {},
     "output_type": "display_data"
    }
   ],
   "source": [
    "sns.histplot(data=df,x = 'total_sales',kde=True)\n",
    "plt.title('Distribution of Total Sales')\n",
    "plt.xlabel('Total Sales')\n",
    "plt.ylabel('Frequency')\n",
    "plt.show()"
   ]
  },
  {
   "cell_type": "code",
   "execution_count": 41,
   "id": "993facd0-b08d-4dde-b752-ae6347a97fb4",
   "metadata": {},
   "outputs": [
    {
     "data": {
      "image/png": "[encoded data removed]",
      "text/plain": [
       "<Figure size 640x480 with 1 Axes>"
      ]
     },
     "metadata": {},
     "output_type": "display_data"
    }
   ],
   "source": [
    "sns.histplot(data=df,x = 'quantity',kde=True)\n",
    "plt.title('Distribution of Quantity')\n",
    "plt.xlabel('Quantity')\n",
    "plt.ylabel('Frequency')\n",
    "plt.show()"
   ]
  },
  {
   "cell_type": "code",
   "execution_count": 42,
   "id": "d16ea734-bc4d-422c-b5b8-787307e817dc",
   "metadata": {},
   "outputs": [
    {
     "data": {
      "text/html": [
       "<div>\n",
       "<style scoped>\n",
       "    .dataframe tbody tr th:only-of-type {\n",
       "        vertical-align: middle;\n",
       "    }\n",
       "\n",
       "    .dataframe tbody tr th {\n",
       "        vertical-align: top;\n",
       "    }\n",
       "\n",
       "    .dataframe thead th {\n",
       "        text-align: right;\n",
       "    }\n",
       "</style>\n",
       "<table border=\"1\" class=\"dataframe\">\n",
       "  <thead>\n",
       "    <tr style=\"text-align: right;\">\n",
       "      <th></th>\n",
       "      <th>product_name</th>\n",
       "      <th>total_sales</th>\n",
       "    </tr>\n",
       "  </thead>\n",
       "  <tbody>\n",
       "    <tr>\n",
       "      <th>0</th>\n",
       "      <td>Suya &amp; Chips</td>\n",
       "      <td>343000.0</td>\n",
       "    </tr>\n",
       "    <tr>\n",
       "      <th>1</th>\n",
       "      <td>Amala &amp; Ewedu</td>\n",
       "      <td>318600.0</td>\n",
       "    </tr>\n",
       "    <tr>\n",
       "      <th>2</th>\n",
       "      <td>Eba &amp; Ogbono Soup</td>\n",
       "      <td>310800.0</td>\n",
       "    </tr>\n",
       "    <tr>\n",
       "      <th>3</th>\n",
       "      <td>Jollof Rice &amp; Chicken</td>\n",
       "      <td>237500.0</td>\n",
       "    </tr>\n",
       "    <tr>\n",
       "      <th>4</th>\n",
       "      <td>Palm Wine</td>\n",
       "      <td>226800.0</td>\n",
       "    </tr>\n",
       "  </tbody>\n",
       "</table>\n",
       "</div>"
      ],
      "text/plain": [
       "            product_name  total_sales\n",
       "0           Suya & Chips     343000.0\n",
       "1          Amala & Ewedu     318600.0\n",
       "2      Eba & Ogbono Soup     310800.0\n",
       "3  Jollof Rice & Chicken     237500.0\n",
       "4              Palm Wine     226800.0"
      ]
     },
     "execution_count": 42,
     "metadata": {},
     "output_type": "execute_result"
    }
   ],
   "source": [
    "#top selling menu\n",
    "top_menu=df.groupby('product_name')['total_sales'].agg('sum').sort_values(ascending=False).reset_index().head()\n",
    "top_menu"
   ]
  },
  {
   "cell_type": "code",
   "execution_count": 43,
   "id": "1a318f59-c26b-439b-93e1-ed06ee81c513",
   "metadata": {},
   "outputs": [
    {
     "data": {
      "image/png": "[encoded data removed]",
      "text/plain": [
       "<Figure size 640x480 with 1 Axes>"
      ]
     },
     "metadata": {},
     "output_type": "display_data"
    }
   ],
   "source": [
    "sns.barplot(data=top_menu,y='product_name',x='total_sales')\n",
    "plt.title('Top Five Selling Menu')\n",
    "plt.xlabel('Total Sales')\n",
    "plt.ylabel('Menu')\n",
    "#plt.xticks(rotation= 45)\n",
    "plt.show()\n"
   ]
  },
  {
   "cell_type": "code",
   "execution_count": 44,
   "id": "d288a165-22b1-4122-bf0b-25838f74a22a",
   "metadata": {},
   "outputs": [
    {
     "data": {
      "text/html": [
       "<div>\n",
       "<style scoped>\n",
       "    .dataframe tbody tr th:only-of-type {\n",
       "        vertical-align: middle;\n",
       "    }\n",
       "\n",
       "    .dataframe tbody tr th {\n",
       "        vertical-align: top;\n",
       "    }\n",
       "\n",
       "    .dataframe thead th {\n",
       "        text-align: right;\n",
       "    }\n",
       "</style>\n",
       "<table border=\"1\" class=\"dataframe\">\n",
       "  <thead>\n",
       "    <tr style=\"text-align: right;\">\n",
       "      <th></th>\n",
       "      <th>product_name</th>\n",
       "      <th>total_sales</th>\n",
       "    </tr>\n",
       "  </thead>\n",
       "  <tbody>\n",
       "    <tr>\n",
       "      <th>0</th>\n",
       "      <td>Zobo Drink</td>\n",
       "      <td>110000.0</td>\n",
       "    </tr>\n",
       "    <tr>\n",
       "      <th>1</th>\n",
       "      <td>Chapman</td>\n",
       "      <td>153000.0</td>\n",
       "    </tr>\n",
       "    <tr>\n",
       "      <th>2</th>\n",
       "      <td>Pepper Soup</td>\n",
       "      <td>162000.0</td>\n",
       "    </tr>\n",
       "    <tr>\n",
       "      <th>3</th>\n",
       "      <td>Pounded Yam &amp; Egusi</td>\n",
       "      <td>201000.0</td>\n",
       "    </tr>\n",
       "    <tr>\n",
       "      <th>4</th>\n",
       "      <td>Fried Rice &amp; Beef</td>\n",
       "      <td>223100.0</td>\n",
       "    </tr>\n",
       "  </tbody>\n",
       "</table>\n",
       "</div>"
      ],
      "text/plain": [
       "          product_name  total_sales\n",
       "0           Zobo Drink     110000.0\n",
       "1              Chapman     153000.0\n",
       "2          Pepper Soup     162000.0\n",
       "3  Pounded Yam & Egusi     201000.0\n",
       "4    Fried Rice & Beef     223100.0"
      ]
     },
     "execution_count": 44,
     "metadata": {},
     "output_type": "execute_result"
    }
   ],
   "source": [
    "#top selling menu\n",
    "bottom_menu=df.groupby('product_name')['total_sales'].agg('sum').sort_values(ascending=True).reset_index().head()\n",
    "bottom_menu"
   ]
  },
  {
   "cell_type": "code",
   "execution_count": 45,
   "id": "7daa5208-bccc-4b7c-ab64-8fafc575e4f8",
   "metadata": {},
   "outputs": [
    {
     "data": {
      "image/png": "[encoded data removed]",
      "text/plain": [
       "<Figure size 640x480 with 1 Axes>"
      ]
     },
     "metadata": {},
     "output_type": "display_data"
    }
   ],
   "source": [
    "sns.barplot(data=bottom_menu,y='product_name',x='total_sales')\n",
    "plt.title('Least Five Selling Menu')\n",
    "plt.xlabel('Total Sales')\n",
    "plt.ylabel('Menu')\n",
    "#plt.xticks(rotation= 45)\n",
    "plt.show()"
   ]
  },
  {
   "cell_type": "code",
   "execution_count": 73,
   "id": "10c1f942-7040-479d-9822-02e0533310d4",
   "metadata": {},
   "outputs": [
    {
     "data": {
      "text/html": [
       "<div>\n",
       "<style scoped>\n",
       "    .dataframe tbody tr th:only-of-type {\n",
       "        vertical-align: middle;\n",
       "    }\n",
       "\n",
       "    .dataframe tbody tr th {\n",
       "        vertical-align: top;\n",
       "    }\n",
       "\n",
       "    .dataframe thead th {\n",
       "        text-align: right;\n",
       "    }\n",
       "</style>\n",
       "<table border=\"1\" class=\"dataframe\">\n",
       "  <thead>\n",
       "    <tr style=\"text-align: right;\">\n",
       "      <th></th>\n",
       "      <th>name</th>\n",
       "      <th>total_sales</th>\n",
       "    </tr>\n",
       "  </thead>\n",
       "  <tbody>\n",
       "    <tr>\n",
       "      <th>0</th>\n",
       "      <td>Rebecca Yu</td>\n",
       "      <td>51400.0</td>\n",
       "    </tr>\n",
       "    <tr>\n",
       "      <th>1</th>\n",
       "      <td>Andrew Robbins</td>\n",
       "      <td>51000.0</td>\n",
       "    </tr>\n",
       "    <tr>\n",
       "      <th>2</th>\n",
       "      <td>Erin Rhodes</td>\n",
       "      <td>48100.0</td>\n",
       "    </tr>\n",
       "    <tr>\n",
       "      <th>3</th>\n",
       "      <td>Lisa Logan</td>\n",
       "      <td>46200.0</td>\n",
       "    </tr>\n",
       "    <tr>\n",
       "      <th>4</th>\n",
       "      <td>Derek Powell</td>\n",
       "      <td>44100.0</td>\n",
       "    </tr>\n",
       "  </tbody>\n",
       "</table>\n",
       "</div>"
      ],
      "text/plain": [
       "             name  total_sales\n",
       "0      Rebecca Yu      51400.0\n",
       "1  Andrew Robbins      51000.0\n",
       "2     Erin Rhodes      48100.0\n",
       "3      Lisa Logan      46200.0\n",
       "4    Derek Powell      44100.0"
      ]
     },
     "execution_count": 73,
     "metadata": {},
     "output_type": "execute_result"
    }
   ],
   "source": [
    "# Top 5 Spending Customers\n",
    "top_customer =df.groupby('name')['total_sales'].agg('sum').sort_values(ascending=False).reset_index().head()\n",
    "top_customer"
   ]
  },
  {
   "cell_type": "code",
   "execution_count": 74,
   "id": "d7a3beca-ce68-4d0a-8840-eaf0c5059b7b",
   "metadata": {},
   "outputs": [
    {
     "data": {
      "image/png": "[encoded data removed]",
      "text/plain": [
       "<Figure size 640x480 with 1 Axes>"
      ]
     },
     "metadata": {},
     "output_type": "display_data"
    }
   ],
   "source": [
    "# Top 5 Spending Customers\n",
    "sns.barplot(data=top_customer,y='name',x='total_sales')\n",
    "plt.title('Top 5 Spending Customers')\n",
    "plt.xlabel('Total Sales')\n",
    "plt.ylabel('Customers')\n",
    "#plt.xticks(rotation= 45)\n",
    "plt.show()\n"
   ]
  },
  {
   "cell_type": "code",
   "execution_count": 75,
   "id": "f9dc8286-a17a-4d61-85a0-64b6183e410b",
   "metadata": {},
   "outputs": [
    {
     "data": {
      "text/html": [
       "<div>\n",
       "<style scoped>\n",
       "    .dataframe tbody tr th:only-of-type {\n",
       "        vertical-align: middle;\n",
       "    }\n",
       "\n",
       "    .dataframe tbody tr th {\n",
       "        vertical-align: top;\n",
       "    }\n",
       "\n",
       "    .dataframe thead th {\n",
       "        text-align: right;\n",
       "    }\n",
       "</style>\n",
       "<table border=\"1\" class=\"dataframe\">\n",
       "  <thead>\n",
       "    <tr style=\"text-align: right;\">\n",
       "      <th></th>\n",
       "      <th>age_group</th>\n",
       "      <th>total_sales</th>\n",
       "    </tr>\n",
       "  </thead>\n",
       "  <tbody>\n",
       "    <tr>\n",
       "      <th>0</th>\n",
       "      <td>Pre Retirement</td>\n",
       "      <td>53600.0</td>\n",
       "    </tr>\n",
       "    <tr>\n",
       "      <th>1</th>\n",
       "      <td>Young Adult</td>\n",
       "      <td>657700.0</td>\n",
       "    </tr>\n",
       "    <tr>\n",
       "      <th>2</th>\n",
       "      <td>Older Adult</td>\n",
       "      <td>661500.0</td>\n",
       "    </tr>\n",
       "    <tr>\n",
       "      <th>3</th>\n",
       "      <td>Mid Adult</td>\n",
       "      <td>913000.0</td>\n",
       "    </tr>\n",
       "  </tbody>\n",
       "</table>\n",
       "</div>"
      ],
      "text/plain": [
       "        age_group  total_sales\n",
       "0  Pre Retirement      53600.0\n",
       "1     Young Adult     657700.0\n",
       "2     Older Adult     661500.0\n",
       "3       Mid Adult     913000.0"
      ]
     },
     "execution_count": 75,
     "metadata": {},
     "output_type": "execute_result"
    }
   ],
   "source": [
    "# best patronising age group\n",
    "revenu_by_age_group=df.groupby('age_group')['total_sales'].agg('sum').sort_values(ascending=True).reset_index().head()\n",
    "revenu_by_age_group"
   ]
  },
  {
   "cell_type": "code",
   "execution_count": 77,
   "id": "1acdd025-cdf2-440f-80b1-b67bbd23e3a5",
   "metadata": {},
   "outputs": [
    {
     "data": {
      "image/png": "[encoded data removed]",
      "text/plain": [
       "<Figure size 640x480 with 1 Axes>"
      ]
     },
     "metadata": {},
     "output_type": "display_data"
    }
   ],
   "source": [
    "# best patronising age group\n",
    "sns.barplot(data=revenu_by_age_group,y='age_group',x='total_sales')\n",
    "plt.title('revenu_by_age_group')\n",
    "plt.xlabel('Total Sales')\n",
    "plt.ylabel('age_group')\n",
    "#plt.xticks(rotation= 45)\n",
    "plt.show()"
   ]
  },
  {
   "cell_type": "code",
   "execution_count": 83,
   "id": "9e8e332c-0164-4da6-94f2-70adff13d71f",
   "metadata": {},
   "outputs": [
    {
     "data": {
      "text/html": [
       "<div>\n",
       "<style scoped>\n",
       "    .dataframe tbody tr th:only-of-type {\n",
       "        vertical-align: middle;\n",
       "    }\n",
       "\n",
       "    .dataframe tbody tr th {\n",
       "        vertical-align: top;\n",
       "    }\n",
       "\n",
       "    .dataframe thead th {\n",
       "        text-align: right;\n",
       "    }\n",
       "</style>\n",
       "<table border=\"1\" class=\"dataframe\">\n",
       "  <thead>\n",
       "    <tr style=\"text-align: right;\">\n",
       "      <th></th>\n",
       "      <th>payment_method</th>\n",
       "      <th>sale_date</th>\n",
       "    </tr>\n",
       "  </thead>\n",
       "  <tbody>\n",
       "    <tr>\n",
       "      <th>0</th>\n",
       "      <td>POS</td>\n",
       "      <td>158</td>\n",
       "    </tr>\n",
       "    <tr>\n",
       "      <th>1</th>\n",
       "      <td>Cash</td>\n",
       "      <td>160</td>\n",
       "    </tr>\n",
       "    <tr>\n",
       "      <th>2</th>\n",
       "      <td>Transfer</td>\n",
       "      <td>182</td>\n",
       "    </tr>\n",
       "  </tbody>\n",
       "</table>\n",
       "</div>"
      ],
      "text/plain": [
       "  payment_method  sale_date\n",
       "0            POS        158\n",
       "1           Cash        160\n",
       "2       Transfer        182"
      ]
     },
     "execution_count": 83,
     "metadata": {},
     "output_type": "execute_result"
    }
   ],
   "source": [
    "# Most Preferred Payment Method\n",
    "Preferred_Payment_Method=df.groupby('payment_method')['sale_date'].agg('count').sort_values(ascending=True).reset_index().head()\n",
    "Preferred_Payment_Method"
   ]
  },
  {
   "cell_type": "code",
   "execution_count": 85,
   "id": "87cab3a1-e9c1-433b-b784-66dd6f8783c8",
   "metadata": {},
   "outputs": [
    {
     "data": {
      "image/png": "[encoded data removed]",
      "text/plain": [
       "<Figure size 640x480 with 1 Axes>"
      ]
     },
     "metadata": {},
     "output_type": "display_data"
    }
   ],
   "source": [
    "sns.barplot(data=Preferred_Payment_Method,y='payment_method',x='sale_date')\n",
    "plt.title('Most Preferred Payment Method')\n",
    "plt.xlabel('no of transaction')\n",
    "plt.ylabel('payment_method')\n",
    "#plt.xticks(rotation= 45)\n",
    "plt.show()"
   ]
  },
  {
   "cell_type": "code",
   "execution_count": 98,
   "id": "145cea05-ad86-4216-b592-a7c4fc5233a2",
   "metadata": {},
   "outputs": [
    {
     "data": {
      "text/plain": [
       "<bound method NDFrame.head of   month_name  total_sales\n",
       "0   December     740000.0\n",
       "1   February     191600.0\n",
       "2    January     761800.0\n",
       "3   November     592400.0>"
      ]
     },
     "execution_count": 98,
     "metadata": {},
     "output_type": "execute_result"
    }
   ],
   "source": [
    "sales_trend=df.groupby('month_name')['total_sales'].agg('sum').sort_values(ascending=True).reset_index().head()\n",
    "sales_trend"
   ]
  },
  {
   "cell_type": "code",
   "execution_count": 104,
   "id": "0f4bcd7d-3b34-457b-91f3-3806ae3f6ad0",
   "metadata": {},
   "outputs": [
    {
     "name": "stdout",
     "output_type": "stream",
     "text": [
      "    day_name  total_sales\n",
      "3     Sunday     307300.0\n",
      "1     Monday     334400.0\n",
      "5    Tuesday     281400.0\n",
      "6  Wednesday     303100.0\n",
      "4   Thursday     355000.0\n",
      "0     Friday     304500.0\n",
      "2   Saturday     400100.0\n"
     ]
    }
   ],
   "source": [
    "sales_trend_by_day=df[df['day_name'].isin(['Sunday','Monday','Tuesday','Wednesday','Thursday','Friday','Saturday'])]\n",
    "sales_trend_by_days =sales_trend_by_day.groupby('day_name')['total_sales'].agg('sum').reset_index()\n",
    "ordered_days=['Sunday','Monday','Tuesday','Wednesday','Thursday','Friday','Saturday']\n",
    "sales_trend_by_days['day_name']=pd.Categorical(sales_trend_by_days['day_name'],categories=ordered_days,ordered=True)\n",
    "sales_trend_by_days.sort_values('day_name',inplace=True)\n",
    "print(sales_trend_by_days)"
   ]
  },
  {
   "cell_type": "code",
   "execution_count": 105,
   "id": "2cf6da49-edb1-466d-a7c0-cbf703fd9cd1",
   "metadata": {},
   "outputs": [
    {
     "data": {
      "image/png": "[encoded data removed]",
      "text/plain": [
       "<Figure size 640x480 with 1 Axes>"
      ]
     },
     "metadata": {},
     "output_type": "display_data"
    }
   ],
   "source": [
    "sns.lineplot(sales_trend_by_days,x='day_name',y='total_sales')\n",
    "plt.title('Daily sales Trend')\n",
    "plt.xlabel('Total Sales')\n",
    "plt.ylabel('day_name')\n",
    "#plt.xticks(rotation= 45)\n",
    "plt.show()"
   ]
  },
  {
   "cell_type": "code",
   "execution_count": 90,
   "id": "a0420e80-5545-4d80-b540-792061e75284",
   "metadata": {},
   "outputs": [
    {
     "name": "stdout",
     "output_type": "stream",
     "text": [
      "  month_name  total_sales\n",
      "0   December     740000.0\n",
      "2    January     761800.0\n",
      "1   February     191600.0\n"
     ]
    }
   ],
   "source": [
    "last_3_months=df[df['month_name'].isin(['December','January','February'])]\n",
    "last_3_months_sales=last_3_months.groupby('month_name')['total_sales'].agg('sum').reset_index()\n",
    "ordered_months=['December','January','February']\n",
    "last_3_months_sales['month_name']=pd.Categorical(last_3_months_sales['month_name'],categories=ordered_months,ordered=True)\n",
    "last_3_months_sales.sort_values('month_name',inplace=True)\n",
    "print(last_3_months_sales)"
   ]
  },
  {
   "cell_type": "code",
   "execution_count": 47,
   "id": "2e0eeeef-ab27-42db-9328-461c51855b18",
   "metadata": {},
   "outputs": [
    {
     "data": {
      "image/png": "[encoded data removed]",
      "text/plain": [
       "<Figure size 640x480 with 1 Axes>"
      ]
     },
     "metadata": {},
     "output_type": "display_data"
    }
   ],
   "source": [
    "sns.lineplot(last_3_months_sales,x='month_name',y='total_sales')\n",
    "plt.title('Sales Trend For Last 3 Months')\n",
    "plt.xlabel('Total Sales')\n",
    "plt.ylabel('mothn_name')\n",
    "#plt.xticks(rotation= 45)\n",
    "plt.show()"
   ]
  },
  {
   "cell_type": "code",
   "execution_count": 48,
   "id": "bca3a518-87fc-4b9b-9b6f-3da98be5c6b7",
   "metadata": {},
   "outputs": [
    {
     "name": "stdout",
     "output_type": "stream",
     "text": [
      "  month_name  total_sales\n",
      "0   December      4567.90\n",
      "1   February      4912.82\n",
      "2    January      4507.69\n"
     ]
    }
   ],
   "source": [
    "last_3_months=df[df['month_name'].isin(['December','January','February'])]\n",
    "last_3_months_Avg_sales=last_3_months.groupby('month_name')['total_sales'].agg('mean').reset_index().round(2)\n",
    "ordered_months=['December','January','February']\n",
    "last_3_months_Avg_sales['month_name']=pd.Categorical(last_3_months_Avg_sales['month_name'],categories=ordered_months,ordered=True)\n",
    "last_3_months_sales.sort_values('month_name',inplace=True)\n",
    "print(last_3_months_Avg_sales)"
   ]
  },
  {
   "cell_type": "code",
   "execution_count": 49,
   "id": "e53caff0-4f01-45e8-ba73-82a3dfad1d27",
   "metadata": {},
   "outputs": [
    {
     "data": {
      "image/png": "[encoded data removed]",
      "text/plain": [
       "<Figure size 640x480 with 1 Axes>"
      ]
     },
     "metadata": {},
     "output_type": "display_data"
    }
   ],
   "source": [
    "sns.lineplot(last_3_months_Avg_sales,x='month_name',y='total_sales')\n",
    "plt.title('Avg Sales Trend For Last 3 Months')\n",
    "plt.xlabel('Total Sales')\n",
    "plt.ylabel('mothn_name')\n",
    "plt.show()"
   ]
  },
  {
   "cell_type": "code",
   "execution_count": 79,
   "id": "8e7185db-cdc3-4d1f-9aaf-b12b9dd71c63",
   "metadata": {},
   "outputs": [
    {
     "data": {
      "text/html": [
       "<div>\n",
       "<style scoped>\n",
       "    .dataframe tbody tr th:only-of-type {\n",
       "        vertical-align: middle;\n",
       "    }\n",
       "\n",
       "    .dataframe tbody tr th {\n",
       "        vertical-align: top;\n",
       "    }\n",
       "\n",
       "    .dataframe thead th {\n",
       "        text-align: right;\n",
       "    }\n",
       "</style>\n",
       "<table border=\"1\" class=\"dataframe\">\n",
       "  <thead>\n",
       "    <tr style=\"text-align: right;\">\n",
       "      <th></th>\n",
       "      <th>location</th>\n",
       "      <th>sale_date</th>\n",
       "    </tr>\n",
       "  </thead>\n",
       "  <tbody>\n",
       "    <tr>\n",
       "      <th>0</th>\n",
       "      <td>Surulere</td>\n",
       "      <td>74</td>\n",
       "    </tr>\n",
       "    <tr>\n",
       "      <th>1</th>\n",
       "      <td>Yaba</td>\n",
       "      <td>77</td>\n",
       "    </tr>\n",
       "    <tr>\n",
       "      <th>2</th>\n",
       "      <td>Victoria Island</td>\n",
       "      <td>105</td>\n",
       "    </tr>\n",
       "    <tr>\n",
       "      <th>3</th>\n",
       "      <td>Lekki</td>\n",
       "      <td>108</td>\n",
       "    </tr>\n",
       "    <tr>\n",
       "      <th>4</th>\n",
       "      <td>Ikeja</td>\n",
       "      <td>136</td>\n",
       "    </tr>\n",
       "  </tbody>\n",
       "</table>\n",
       "</div>"
      ],
      "text/plain": [
       "          location  sale_date\n",
       "0         Surulere         74\n",
       "1             Yaba         77\n",
       "2  Victoria Island        105\n",
       "3            Lekki        108\n",
       "4            Ikeja        136"
      ]
     },
     "execution_count": 79,
     "metadata": {},
     "output_type": "execute_result"
    }
   ],
   "source": [
    "# high customer density (location)\n",
    "no_transaction_by_location=df.groupby('location')['sale_date'].agg('count').sort_values(ascending=True).reset_index().head()\n",
    "no_transaction_by_location"
   ]
  },
  {
   "cell_type": "code",
   "execution_count": 80,
   "id": "4e662660-2474-4004-9cd2-fee6955f84fa",
   "metadata": {},
   "outputs": [
    {
     "data": {
      "image/png": "[encoded data removed]",
      "text/plain": [
       "<Figure size 640x480 with 1 Axes>"
      ]
     },
     "metadata": {},
     "output_type": "display_data"
    }
   ],
   "source": [
    "sns.barplot(data=no_transaction_by_location,y='location',x='sale_date')\n",
    "plt.title('high customer density')\n",
    "plt.xlabel('no of customer')\n",
    "plt.ylabel('location')\n",
    "#plt.xticks(rotation= 45)\n",
    "plt.show()"
   ]
  },
  {
   "cell_type": "code",
   "execution_count": 50,
   "id": "1df1e511-f941-444b-a284-5eff75948fc7",
   "metadata": {},
   "outputs": [],
   "source": [
    "# importing libraries for supervise learning to see the accuracy of my data\n",
    "# OrdinalEncoder,StandardScaler use to turn test to numbers to turn our mean to 0 and standarddeviation as \n",
    "# 1 and the ordinal forn will give us number like 1,2,3,4\n",
    "\n",
    "from sklearn.model_selection import train_test_split\n",
    "from sklearn.preprocessing import OrdinalEncoder,StandardScaler \n",
    "from sklearn.impute import SimpleImputer\n",
    "from sklearn.compose import ColumnTransformer\n",
    "from sklearn.pipeline import Pipeline"
   ]
  },
  {
   "cell_type": "code",
   "execution_count": 63,
   "id": "6c8d20f7-5d63-4ec4-b3f8-69aae3069465",
   "metadata": {},
   "outputs": [],
   "source": [
    "# removing columns from categorical cols like ,phone,emil,all ids\n",
    "df.drop(['customer_id','phone','email','sale_id', 'product_id'],axis=1,inplace=True)"
   ]
  },
  {
   "cell_type": "code",
   "execution_count": 57,
   "id": "33273222-c9e3-4ebd-b4d3-a605c6fb9707",
   "metadata": {},
   "outputs": [],
   "source": [
    "# creating a spliting function to enable me ategorise my data into numbers and categorical columns \n",
    "def split_columns(data):\n",
    "    data = data.copy()\n",
    "    num_cols = data.select_dtypes(include = ['number']).columns\n",
    "    cat_cols = data.select_dtypes(include = ['object']).columns\n",
    "    return num_cols,cat_cols"
   ]
  },
  {
   "cell_type": "code",
   "execution_count": 64,
   "id": "6c997399-02b6-4379-a88d-28bd076f2028",
   "metadata": {},
   "outputs": [],
   "source": [
    "num_cols,cat_cols = split_columns(df)"
   ]
  },
  {
   "cell_type": "code",
   "execution_count": 65,
   "id": "ca817f4d-cbea-48b6-83c2-8de940807c73",
   "metadata": {},
   "outputs": [
    {
     "data": {
      "text/plain": [
       "Index(['age', 'quantity', 'total_sales', 'price'], dtype='object')"
      ]
     },
     "execution_count": 65,
     "metadata": {},
     "output_type": "execute_result"
    }
   ],
   "source": [
    "num_cols"
   ]
  },
  {
   "cell_type": "code",
   "execution_count": 66,
   "id": "ebba2d2b-18fc-4c90-a7ed-72ef9b69adfc",
   "metadata": {},
   "outputs": [
    {
     "data": {
      "text/plain": [
       "Index(['name', 'gender', 'location', 'payment_method', 'product_name',\n",
       "       'month_name', 'day_name', 'age_group'],\n",
       "      dtype='object')"
      ]
     },
     "execution_count": 66,
     "metadata": {},
     "output_type": "execute_result"
    }
   ],
   "source": [
    "cat_cols"
   ]
  },
  {
   "cell_type": "code",
   "execution_count": 67,
   "id": "d3b79660-0ab5-4c18-bc4b-a34fb6ca6c48",
   "metadata": {},
   "outputs": [
    {
     "data": {
      "text/html": [
       "<div>\n",
       "<style scoped>\n",
       "    .dataframe tbody tr th:only-of-type {\n",
       "        vertical-align: middle;\n",
       "    }\n",
       "\n",
       "    .dataframe tbody tr th {\n",
       "        vertical-align: top;\n",
       "    }\n",
       "\n",
       "    .dataframe thead th {\n",
       "        text-align: right;\n",
       "    }\n",
       "</style>\n",
       "<table border=\"1\" class=\"dataframe\">\n",
       "  <thead>\n",
       "    <tr style=\"text-align: right;\">\n",
       "      <th></th>\n",
       "      <th>age</th>\n",
       "      <th>quantity</th>\n",
       "      <th>total_sales</th>\n",
       "      <th>price</th>\n",
       "    </tr>\n",
       "  </thead>\n",
       "  <tbody>\n",
       "    <tr>\n",
       "      <th>age</th>\n",
       "      <td>1.000000</td>\n",
       "      <td>0.051774</td>\n",
       "      <td>0.022283</td>\n",
       "      <td>-0.040647</td>\n",
       "    </tr>\n",
       "    <tr>\n",
       "      <th>quantity</th>\n",
       "      <td>0.051774</td>\n",
       "      <td>1.000000</td>\n",
       "      <td>0.774471</td>\n",
       "      <td>0.053690</td>\n",
       "    </tr>\n",
       "    <tr>\n",
       "      <th>total_sales</th>\n",
       "      <td>0.022283</td>\n",
       "      <td>0.774471</td>\n",
       "      <td>1.000000</td>\n",
       "      <td>0.624817</td>\n",
       "    </tr>\n",
       "    <tr>\n",
       "      <th>price</th>\n",
       "      <td>-0.040647</td>\n",
       "      <td>0.053690</td>\n",
       "      <td>0.624817</td>\n",
       "      <td>1.000000</td>\n",
       "    </tr>\n",
       "  </tbody>\n",
       "</table>\n",
       "</div>"
      ],
      "text/plain": [
       "                  age  quantity  total_sales     price\n",
       "age          1.000000  0.051774     0.022283 -0.040647\n",
       "quantity     0.051774  1.000000     0.774471  0.053690\n",
       "total_sales  0.022283  0.774471     1.000000  0.624817\n",
       "price       -0.040647  0.053690     0.624817  1.000000"
      ]
     },
     "execution_count": 67,
     "metadata": {},
     "output_type": "execute_result"
    }
   ],
   "source": [
    "# checking for correlation\n",
    "df[num_cols].corr()"
   ]
  },
  {
   "cell_type": "code",
   "execution_count": 68,
   "id": "3115a04d-f643-4e47-9b92-d4d3882b19c0",
   "metadata": {},
   "outputs": [
    {
     "data": {
      "text/plain": [
       "age            0.022283\n",
       "quantity       0.774471\n",
       "total_sales    1.000000\n",
       "price          0.624817\n",
       "Name: total_sales, dtype: float64"
      ]
     },
     "execution_count": 68,
     "metadata": {},
     "output_type": "execute_result"
    }
   ],
   "source": [
    "# checking for correlation with total price\n",
    "df[num_cols].corr()['total_sales']"
   ]
  },
  {
   "cell_type": "code",
   "execution_count": 69,
   "id": "89a6ceb5-34ed-4df0-baec-199d0c69bde9",
   "metadata": {},
   "outputs": [
    {
     "data": {
      "text/html": [
       "<div>\n",
       "<style scoped>\n",
       "    .dataframe tbody tr th:only-of-type {\n",
       "        vertical-align: middle;\n",
       "    }\n",
       "\n",
       "    .dataframe tbody tr th {\n",
       "        vertical-align: top;\n",
       "    }\n",
       "\n",
       "    .dataframe thead th {\n",
       "        text-align: right;\n",
       "    }\n",
       "</style>\n",
       "<table border=\"1\" class=\"dataframe\">\n",
       "  <thead>\n",
       "    <tr style=\"text-align: right;\">\n",
       "      <th></th>\n",
       "      <th>count</th>\n",
       "      <th>mean</th>\n",
       "      <th>std</th>\n",
       "      <th>min</th>\n",
       "      <th>25%</th>\n",
       "      <th>50%</th>\n",
       "      <th>75%</th>\n",
       "      <th>max</th>\n",
       "    </tr>\n",
       "  </thead>\n",
       "  <tbody>\n",
       "    <tr>\n",
       "      <th>age</th>\n",
       "      <td>500.0</td>\n",
       "      <td>38.22</td>\n",
       "      <td>12.571543</td>\n",
       "      <td>18.0</td>\n",
       "      <td>28.75</td>\n",
       "      <td>38.0</td>\n",
       "      <td>49.0</td>\n",
       "      <td>60.0</td>\n",
       "    </tr>\n",
       "    <tr>\n",
       "      <th>quantity</th>\n",
       "      <td>500.0</td>\n",
       "      <td>2.01</td>\n",
       "      <td>0.809451</td>\n",
       "      <td>1.0</td>\n",
       "      <td>1.00</td>\n",
       "      <td>2.0</td>\n",
       "      <td>3.0</td>\n",
       "      <td>3.0</td>\n",
       "    </tr>\n",
       "    <tr>\n",
       "      <th>total_sales</th>\n",
       "      <td>500.0</td>\n",
       "      <td>4571.60</td>\n",
       "      <td>2433.153079</td>\n",
       "      <td>1000.0</td>\n",
       "      <td>2700.00</td>\n",
       "      <td>4000.0</td>\n",
       "      <td>6000.0</td>\n",
       "      <td>10500.0</td>\n",
       "    </tr>\n",
       "    <tr>\n",
       "      <th>price</th>\n",
       "      <td>500.0</td>\n",
       "      <td>2258.80</td>\n",
       "      <td>724.231719</td>\n",
       "      <td>1000.0</td>\n",
       "      <td>1800.00</td>\n",
       "      <td>2300.0</td>\n",
       "      <td>2800.0</td>\n",
       "      <td>3500.0</td>\n",
       "    </tr>\n",
       "  </tbody>\n",
       "</table>\n",
       "</div>"
      ],
      "text/plain": [
       "             count     mean          std     min      25%     50%     75%  \\\n",
       "age          500.0    38.22    12.571543    18.0    28.75    38.0    49.0   \n",
       "quantity     500.0     2.01     0.809451     1.0     1.00     2.0     3.0   \n",
       "total_sales  500.0  4571.60  2433.153079  1000.0  2700.00  4000.0  6000.0   \n",
       "price        500.0  2258.80   724.231719  1000.0  1800.00  2300.0  2800.0   \n",
       "\n",
       "                 max  \n",
       "age             60.0  \n",
       "quantity         3.0  \n",
       "total_sales  10500.0  \n",
       "price         3500.0  "
      ]
     },
     "execution_count": 69,
     "metadata": {},
     "output_type": "execute_result"
    }
   ],
   "source": [
    "# descriptive statistics and transpossing and also checking if your data is skewed or not\n",
    "df[num_cols].describe().T"
   ]
  },
  {
   "cell_type": "code",
   "execution_count": 70,
   "id": "aab20164-23ae-401f-9f84-c0f5cbd0edf8",
   "metadata": {},
   "outputs": [
    {
     "data": {
      "image/png": "[encoded data removed]",
      "text/plain": [
       "<Figure size 640x480 with 1 Axes>"
      ]
     },
     "metadata": {},
     "output_type": "display_data"
    }
   ],
   "source": [
    "sns.histplot(data=df,x = 'total_sales',kde=True)\n",
    "plt.title('Distribution of Total Sales')\n",
    "plt.xlabel('Total Sales')\n",
    "plt.ylabel('Frequency')\n",
    "plt.show()"
   ]
  },
  {
   "cell_type": "code",
   "execution_count": 71,
   "id": "3aff6489-c67f-4975-b2e0-58ceb6ca441b",
   "metadata": {},
   "outputs": [
    {
     "data": {
      "text/plain": [
       "<Axes: ylabel='total_sales'>"
      ]
     },
     "execution_count": 71,
     "metadata": {},
     "output_type": "execute_result"
    },
    {
     "data": {
      "image/png": "[encoded data removed]",
      "text/plain": [
       "<Figure size 640x480 with 1 Axes>"
      ]
     },
     "metadata": {},
     "output_type": "display_data"
    }
   ],
   "source": [
    "sns.boxplot(y = df['total_sales'])"
   ]
  },
  {
   "cell_type": "code",
   "execution_count": null,
   "id": "9c1bf654-519b-4c98-94e2-92d00f192c27",
   "metadata": {},
   "outputs": [],
   "source": []
  }
 ],
 "metadata": {
  "kernelspec": {
   "display_name": "Python 3 (ipykernel)",
   "language": "python",
   "name": "python3"
  },
  "language_info": {
   "codemirror_mode": {
    "name": "ipython",
    "version": 3
   },
   "file_extension": ".py",
   "mimetype": "text/x-python",
   "name": "python",
   "nbconvert_exporter": "python",
   "pygments_lexer": "ipython3",
   "version": "3.12.0"
  }
 },
 "nbformat": 4,
 "nbformat_minor": 5
}
